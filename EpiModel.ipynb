{
 "cells": [
  {
   "cell_type": "code",
   "execution_count": 23,
   "metadata": {},
   "outputs": [],
   "source": [
    "import pandas as pd\n",
    "import torch\n",
    "import matplotlib.pyplot as plt\n",
    "import matplotlib\n",
    "import numpy as np"
   ]
  },
  {
   "cell_type": "markdown",
   "metadata": {},
   "source": [
    "# Compartmental models in epidemiology\n",
    "\n",
    "In the attempt to understand how we can prevent the spread of COVID19, we now review a simple model and see how we can control the spead of the virus.\n",
    "\n",
    "In our model, we consider 4 groups of population\n",
    "1. S - Susceptable, healty people that have no vrus \n",
    "2. E - Exposed, people who contracted the virus but are not sick\n",
    "3. I - Infected, people who were exposed and became sick\n",
    "4. R - Recovered, those who recovered (or died)\n",
    "\n",
    "A typical flow is $S \\rightarrow E \\rightarrow I \\rightarrow R$\n"
   ]
  },
  {
   "cell_type": "markdown",
   "metadata": {},
   "source": [
    "Let us now consider each of these populations, starting with the susceptable one.\n",
    "\n",
    "The change in the number of the healthy population in a period of time is negatively proportional to the number of healty people and the number of exposed and sick people. \n",
    "$$ {\\frac {\\delta S}{\\delta t}} = - \\beta E S - \\gamma I S. $$\n",
    "\n",
    "The parameters $\\beta$ and $\\gamma$ are determined by the mixing of the populations.\n",
    "It is easier to control $\\gamma$ since we can take better isolation for sick people but the parameter $\\beta$ is harder to control.\n",
    "For close interactions $\\beta$ is large and when interactions are limited it is much smaller. We will see the efect of making $\\beta$ smaller when we run some simulations."
   ]
  },
  {
   "cell_type": "markdown",
   "metadata": {},
   "source": [
    "Next, we consider the exposed population.\n",
    "The change in the exposed population is positively proportional to the number of healtty individuals. However, since at every period some exposed become sick, the change in exposed is decreasing proportionally to the number of sick people.\n",
    "This yields\n",
    "$$ {\\frac {\\delta E}{\\delta t}} = \\beta E S + \\gamma I S - \\alpha E$$"
   ]
  },
  {
   "cell_type": "markdown",
   "metadata": {},
   "source": [
    "Lastly, we consider the infected people. The rate of change is positively proportional to the number of exposed people and negatively proportial to the number of infected people (as people get healthy or die), yielding\n",
    "$$ {\\frac {\\delta I}{\\delta t}} = \\alpha E - \\mu I. $$"
   ]
  },
  {
   "cell_type": "markdown",
   "metadata": {},
   "source": [
    "Combining these equations and taking the limit as $\\delta t \\rightarrow 0$ we obtain\n",
    "\\begin{eqnarray}\n",
    "&& {\\frac {d S}{d t}} = - \\beta E S - \\gamma I S \\\\\n",
    "&& {\\frac {d E}{d t}} = \\beta E S  + \\gamma I S - \\alpha E \\\\\n",
    "&& {\\frac {d I}{d t}} = \\alpha E - \\mu I \n",
    "\\end{eqnarray}\n",
    "\n",
    "The equations are equipped with initial conditions on $S, E$ and $I$.\n",
    "We now see how to model and solve these equations numerically."
   ]
  },
  {
   "cell_type": "code",
   "execution_count": 27,
   "metadata": {},
   "outputs": [],
   "source": [
    "# First define the right hand side, we store all the parameters\n",
    "# in a single vector theta = [alpha, beta,gamma,mu]\n",
    "def SEImodel(theta,S,E,I):\n",
    "    alpha = theta[0]\n",
    "    beta  = theta[1]\n",
    "    gamma = theta[2]\n",
    "    mu    = theta[3]\n",
    "    \n",
    "    dSdt  = -beta*E*S - gamma*I*S                # dS/dt\n",
    "    dEdt  = beta*E*S  + gamma*I*S - alpha*E      # dE/dt\n",
    "    dIdt  = alpha*E - mu*I                       # dI/dt\n",
    "    \n",
    "    return dSdt, dEdt, dIdt\n",
    "    "
   ]
  },
  {
   "cell_type": "markdown",
   "metadata": {},
   "source": [
    "We now integrate the equation in time using a simple forward Euler"
   ]
  },
  {
   "cell_type": "code",
   "execution_count": 28,
   "metadata": {},
   "outputs": [],
   "source": [
    "def integrateSEI(theta,S0,E0,I0,dt,nt):\n",
    "    \n",
    "    # vectors to save the results over time\n",
    "    Sout = torch.zeros(nt+1); Sout[0] = S0\n",
    "    Eout = torch.zeros(nt+1); Eout[0] = E0\n",
    "    Iout = torch.zeros(nt+1); Iout[0] = I0\n",
    "    \n",
    "    S = S0; E = E0; I = I0\n",
    "    for i in range(nt):\n",
    "        dSdt, dEdt, dIdt = SEImodel(theta,S,E,I)\n",
    "        S += dt*dSdt\n",
    "        E += dt*dEdt\n",
    "        I += dt*dIdt\n",
    "        \n",
    "        Sout[i+1] = S; Eout[i+1] = E; Iout[i+1] = I;\n",
    "        \n",
    "    return Sout, Eout, Iout    "
   ]
  },
  {
   "cell_type": "code",
   "execution_count": 29,
   "metadata": {},
   "outputs": [
    {
     "name": "stdout",
     "output_type": "stream",
     "text": [
      "maximum of infected people  0.49775537848472595\n"
     ]
    },
    {
     "data": {
      "image/png": "[encoded data removed]",
      "text/plain": [
       "<Figure size 432x288 with 1 Axes>"
      ]
     },
     "metadata": {
      "needs_background": "light"
     },
     "output_type": "display_data"
    }
   ],
   "source": [
    "# We start with S0  as 99% of the population\n",
    "#               E0  1%\n",
    "#               no sick peaple\n",
    "S0 = 0.99; E0 = 0.01; I0 = 0.0; \n",
    "\n",
    "# Set the duration for the simulation\n",
    "dt = 0.05; nt = 1000\n",
    "\n",
    "# We pick the parameters as follows\n",
    "alpha = 0.2\n",
    "beta  = 0.5\n",
    "gamma = 0.5\n",
    "mu    = 0.075\n",
    "theta = torch.tensor([alpha, beta, gamma, mu])\n",
    "\n",
    "S, E, I = integrateSEI(theta,S0,E0,I0,dt,nt)\n",
    "\n",
    "t = np.arange(nt+1)*dt\n",
    "plt.plot(t,S,t,E,t,I)\n",
    "\n",
    "print('maximum of infected people ', torch.max(I).item())"
   ]
  },
  {
   "cell_type": "code",
   "execution_count": null,
   "metadata": {},
   "outputs": [],
   "source": []
  },
  {
   "cell_type": "markdown",
   "metadata": {},
   "source": [
    "The blue curve is the susceptible population that declines steadily. The orange in the exposed that increased initially and decreased as the number of susceptible population decays and the grean are sick people.\n",
    "Note that at the peak, 50\\% of the population is sick and this can dramatically increase the mortality rate as hospitals collaps.\n",
    "\n",
    "Our mission is to try and make the peak flatter. We cannot control much. The parameters $\\alpha$ and $\\mu$ are desease dependant. They relate to how fast an exposed person becomes sick and how fast sick people recover or die. We can on the other hand, control to some extent $\\beta$ and $\\gamma$. The parameter $\\gamma$ decrease as we decrease the interaction between sick people and the rest of the population. It can become very small if we isolate sick people and use highly efficient protactive gear when treating them. The parameter $\\beta$ is much more difficult to control. It is the parameter that depend on social interactions.\n",
    "\n",
    "We now run the code again, reducing $\\gamma$ dramatocally, from $0.5$ to $0.01$ and see the reactions"
   ]
  },
  {
   "cell_type": "code",
   "execution_count": 30,
   "metadata": {},
   "outputs": [
    {
     "name": "stdout",
     "output_type": "stream",
     "text": [
      "maximum of infected people  0.382425457239151\n"
     ]
    },
    {
     "data": {
      "image/png": "[encoded data removed]",
      "text/plain": [
       "<Figure size 432x288 with 1 Axes>"
      ]
     },
     "metadata": {
      "needs_background": "light"
     },
     "output_type": "display_data"
    }
   ],
   "source": [
    "alpha = 0.2\n",
    "beta  = 0.5\n",
    "gamma = 0.01\n",
    "mu    = 0.075\n",
    "theta = torch.tensor([alpha, beta, gamma, mu])\n",
    "\n",
    "S, E, I = integrateSEI(theta,S0,E0,I0,dt,nt)\n",
    "\n",
    "t = np.arange(nt+1)*dt\n",
    "plt.plot(t,S,t,E,t,I)\n",
    "\n",
    "print('maximum of infected people ', torch.max(I).item())"
   ]
  },
  {
   "cell_type": "markdown",
   "metadata": {},
   "source": [
    "By reducing the contact with infected people we managed to \"flatten the curve\" of infected people to 38\\% which is much better than our previous 50\\%.\n",
    "However, having 38\\% of the population sick the number is still to high. We would like to reduce this number much more and for that we need to reduce the social interactions, that is, reduce $\\beta$. Lets assume that the number of social interaction is reduced to a little bit more than a half. This can be obtained by shutting down schools and public events. \n",
    "\n",
    "Since the infection now propages much slower, we use a longer integration period to see the effect."
   ]
  },
  {
   "cell_type": "code",
   "execution_count": 31,
   "metadata": {},
   "outputs": [
    {
     "name": "stdout",
     "output_type": "stream",
     "text": [
      "maximum of infected people  0.17494483292102814\n"
     ]
    },
    {
     "data": {
      "image/png": "[encoded data removed]",
      "text/plain": [
       "<Figure size 432x288 with 1 Axes>"
      ]
     },
     "metadata": {
      "needs_background": "light"
     },
     "output_type": "display_data"
    }
   ],
   "source": [
    "dt = 0.05; nt = 2000\n",
    "\n",
    "alpha = 0.2\n",
    "beta  = 0.3\n",
    "gamma = 0.01\n",
    "mu    = 0.075\n",
    "theta = torch.tensor([alpha, beta, gamma, mu])\n",
    "\n",
    "S, E, I = integrateSEI(theta,S0,E0,I0,dt,nt)\n",
    "\n",
    "t = np.arange(nt+1)*dt\n",
    "plt.plot(t,S,t,E,t,I)\n",
    "\n",
    "print('maximum of infected people ', torch.max(I).item())"
   ]
  },
  {
   "cell_type": "markdown",
   "metadata": {},
   "source": [
    "Not only that we reduced the size of the peak, we managed to completely stop the infection and indeed 40\\% of the population never experienced the desease!\n",
    "\n",
    "This is why social distancing is so important and why it can help eliminate the desease all together."
   ]
  },
  {
   "cell_type": "markdown",
   "metadata": {},
   "source": [
    "# Homework\n",
    "\n",
    "One of the problems that worry heath scientists is that sick people do not become immune but rather go directly back into the susceptible population. The model for this case is\n",
    "\\begin{eqnarray}\n",
    "&& {\\frac {d S}{d t}} = - \\beta E S - \\gamma I S + \\mu I \\\\\n",
    "&& {\\frac {d E}{d t}} = \\beta E S  + \\gamma I S - \\alpha E \\\\\n",
    "&& {\\frac {d I}{d t}} = \\alpha E - \\mu I \n",
    "\\end{eqnarray}\n",
    "\n"
   ]
  },
  {
   "cell_type": "markdown",
   "metadata": {},
   "source": [
    "1. Use a similar methodology to the one we used above in order to simulate this case.\n",
    "\n",
    "2. Comparing the previous case how would you change $\\beta$ and $\\gamma$ to deal with the infection? Can you find a combination of $\\beta$ and $\\gamma$ that will make the number of sick people smaller than 5\\% of the population?\n",
    "For this part assume that initially $\\alpha = 0.2$, $\\beta  = 0.3$, $\\gamma = 0.01$ and $\\mu    = 0.01$."
   ]
  },
  {
   "cell_type": "code",
   "execution_count": 33,
   "metadata": {},
   "outputs": [],
   "source": [
    "# First define the right hand side, we store all the parameters\n",
    "# in a single vector theta = [alpha, beta,gamma,mu]\n",
    "def SEISmodelS(theta,S,E,I):\n",
    "    alpha = theta[0]\n",
    "    beta  = theta[1]\n",
    "    gamma = theta[2]\n",
    "    mu    = theta[3]\n",
    "    \n",
    "    dSdt  = -beta*E*S - gamma*I*S + mu*I         # dS/dt\n",
    "    dEdt  = beta*E*S  + gamma*I*S - alpha*E      # dE/dt\n",
    "    dIdt  = alpha*E - mu*I                       # dI/dt\n",
    "    \n",
    "    return dSdt, dEdt, dIdt\n",
    "\n",
    "def integrateSEIS(theta,S0,E0,I0,dt,nt):\n",
    "    \n",
    "    # vectors to save the results over time\n",
    "    Sout = torch.zeros(nt+1); Sout[0] = S0\n",
    "    Eout = torch.zeros(nt+1); Eout[0] = E0\n",
    "    Iout = torch.zeros(nt+1); Iout[0] = I0\n",
    "    \n",
    "    S = S0; E = E0; I = I0\n",
    "    for i in range(nt):\n",
    "        dSdt, dEdt, dIdt = SEISmodel(theta,S,E,I)\n",
    "        S += dt*dSdt\n",
    "        E += dt*dEdt\n",
    "        I += dt*dIdt\n",
    "        \n",
    "        Sout[i+1] = S; Eout[i+1] = E; Iout[i+1] = I;\n",
    "        \n",
    "    return Sout, Eout, Iout    "
   ]
  },
  {
   "cell_type": "code",
   "execution_count": null,
   "metadata": {},
   "outputs": [],
   "source": []
  },
  {
   "cell_type": "code",
   "execution_count": null,
   "metadata": {},
   "outputs": [],
   "source": []
  },
  {
   "cell_type": "code",
   "execution_count": null,
   "metadata": {},
   "outputs": [],
   "source": []
  }
 ],
 "metadata": {
  "kernelspec": {
   "display_name": "Python 3",
   "language": "python",
   "name": "python3"
  },
  "language_info": {
   "codemirror_mode": {
    "name": "ipython",
    "version": 3
   },
   "file_extension": ".py",
   "mimetype": "text/x-python",
   "name": "python",
   "nbconvert_exporter": "python",
   "pygments_lexer": "ipython3",
   "version": "3.7.4"
  }
 },
 "nbformat": 4,
 "nbformat_minor": 4
}
