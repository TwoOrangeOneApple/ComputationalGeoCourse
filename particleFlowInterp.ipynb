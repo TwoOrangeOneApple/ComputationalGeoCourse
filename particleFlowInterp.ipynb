{
 "cells": [
  {
   "cell_type": "code",
   "execution_count": 1,
   "metadata": {},
   "outputs": [],
   "source": [
    "%matplotlib inline\n",
    "import torch\n",
    "import numpy as np\n",
    "import timeit\n",
    "import matplotlib.pyplot as plt\n",
    "import scipy\n",
    "from scipy import interpolate"
   ]
  },
  {
   "cell_type": "code",
   "execution_count": 2,
   "metadata": {},
   "outputs": [],
   "source": [
    "# midpoint\n",
    "def computeParticlePathMid(X0,Vfun,h,n):\n",
    "\n",
    "    X = torch.zeros(2,n+1)\n",
    "    X[:,0] = X0\n",
    "    t = 0\n",
    "    for i in range(n):\n",
    "        # Change this for interpolation\n",
    "        V = Vfun(X[:,i],t)\n",
    "        \n",
    "        if i==0:\n",
    "            X[:,i+1] = X[:,i] + h*V\n",
    "        else:\n",
    "            X[:,i+1] = X[:,i-1] + 2*h*V\n",
    "        t +=h\n",
    "    return X"
   ]
  },
  {
   "cell_type": "code",
   "execution_count": 3,
   "metadata": {},
   "outputs": [],
   "source": [
    "def RBFfun(x,y,xI,yI,sigma):\n",
    "    phi = torch.exp(-((x-xI)**2 + (y-yI)**2)/sigma**2)\n",
    "    return phi"
   ]
  },
  {
   "cell_type": "code",
   "execution_count": 4,
   "metadata": {},
   "outputs": [],
   "source": [
    "def RBFmatrix(x,y,sigma):\n",
    "\n",
    "    n = x.shape[0]\n",
    "    A = torch.zeros(n,n);\n",
    "    for i in range(n):\n",
    "        for j in range(n):\n",
    "            A[i,j] = RBFfun(x[i],y[i],x[j],y[j],sigma);\n",
    "    return A"
   ]
  },
  {
   "cell_type": "code",
   "execution_count": 5,
   "metadata": {},
   "outputs": [],
   "source": [
    "def RBFinterp(x,y,f,xI,yI,sigma):\n",
    "\n",
    "    # Compute the RBF matrix\n",
    "    A = RBFmatrix(x,y,sigma);\n",
    "\n",
    "    # Compute the coefficients\n",
    "    c, LU = torch.solve(f.unsqueeze(1),A)\n",
    "\n",
    "    # Compute the data on the new points\n",
    "    nI = xI.shape[0]\n",
    "    n  = x.shape[0]\n",
    "    vI = torch.zeros(nI)\n",
    "    for i in range(nI):\n",
    "        for j in range(n):\n",
    "            vi = c[j]*RBFfun(x[j],y[j],xI[i],yI[i],sigma)\n",
    "            vI[i] += vi[0];\n",
    "    \n",
    "    return vI"
   ]
  },
  {
   "cell_type": "code",
   "execution_count": null,
   "metadata": {},
   "outputs": [],
   "source": [
    "def getVelFromObs(xout,yout,xobs,yobs,uobs,vobs):\n",
    "    "
   ]
  }
 ],
 "metadata": {
  "kernelspec": {
   "display_name": "Python 3",
   "language": "python",
   "name": "python3"
  },
  "language_info": {
   "codemirror_mode": {
    "name": "ipython",
    "version": 3
   },
   "file_extension": ".py",
   "mimetype": "text/x-python",
   "name": "python",
   "nbconvert_exporter": "python",
   "pygments_lexer": "ipython3",
   "version": "3.7.4"
  }
 },
 "nbformat": 4,
 "nbformat_minor": 4
}
