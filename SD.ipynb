{
 "cells": [
  {
   "cell_type": "code",
   "execution_count": 1,
   "metadata": {},
   "outputs": [],
   "source": [
    "%matplotlib inline\n",
    "import numpy as np\n",
    "import matplotlib.pyplot as plt\n",
    "import torch\n",
    "import torch.nn as nn\n",
    "import torch.nn.functional as F"
   ]
  },
  {
   "cell_type": "code",
   "execution_count": 4,
   "metadata": {},
   "outputs": [],
   "source": [
    "def SD(func,theta0,numiter,mu):\n",
    "# SD(func,theta0,numiter,mu)\n",
    "    \n",
    "    theta = theta0\n",
    "\n",
    "    for i in range(numiter):\n",
    "        #  compute function and its gradient\n",
    "        f = func(theta)\n",
    "        # Compute gradients\n",
    "        f.backward()\n",
    "        gradf = theta.grad\n",
    "        \n",
    "        print(i, f, torch.norm(gradf))\n",
    "        \n",
    "        #  update theta <- theta - mu*grad f\n",
    "        with torch.no_grad():\n",
    "            theta -= mu*gradf\n",
    "            \n",
    "            theta.grad.fill_(0.0)\n",
    "            \n",
    "    return theta\n",
    "    \n",
    "#\n",
    "#  return theta"
   ]
  },
  {
   "cell_type": "code",
   "execution_count": 5,
   "metadata": {},
   "outputs": [],
   "source": [
    "A = torch.randn(10,10); A = A.t()@A\n",
    "def myFun(theta):\n",
    "    return theta.t()@(A@theta)"
   ]
  },
  {
   "cell_type": "code",
   "execution_count": 6,
   "metadata": {},
   "outputs": [
    {
     "name": "stdout",
     "output_type": "stream",
     "text": [
      "tensor(36.6752)\n"
     ]
    }
   ],
   "source": [
    "theta = torch.rand(10); y = myFun(theta); print(y)"
   ]
  },
  {
   "cell_type": "code",
   "execution_count": 9,
   "metadata": {},
   "outputs": [],
   "source": [
    "theta = torch.randn(10,requires_grad = True)"
   ]
  },
  {
   "cell_type": "code",
   "execution_count": 13,
   "metadata": {},
   "outputs": [
    {
     "name": "stdout",
     "output_type": "stream",
     "text": [
      "0 tensor(0.2754, grad_fn=<DotBackward>) tensor(2.0193)\n",
      "1 tensor(0.2365, grad_fn=<DotBackward>) tensor(1.8319)\n",
      "2 tensor(0.2045, grad_fn=<DotBackward>) tensor(1.6654)\n",
      "3 tensor(0.1780, grad_fn=<DotBackward>) tensor(1.5175)\n",
      "4 tensor(0.1560, grad_fn=<DotBackward>) tensor(1.3857)\n",
      "5 tensor(0.1376, grad_fn=<DotBackward>) tensor(1.2683)\n",
      "6 tensor(0.1222, grad_fn=<DotBackward>) tensor(1.1634)\n",
      "7 tensor(0.1092, grad_fn=<DotBackward>) tensor(1.0695)\n",
      "8 tensor(0.0982, grad_fn=<DotBackward>) tensor(0.9854)\n",
      "9 tensor(0.0889, grad_fn=<DotBackward>) tensor(0.9099)\n"
     ]
    }
   ],
   "source": [
    "theta_out = SD(myFun,theta,10,1e-2)\n"
   ]
  },
  {
   "cell_type": "code",
   "execution_count": 15,
   "metadata": {},
   "outputs": [
    {
     "name": "stdout",
     "output_type": "stream",
     "text": [
      "tensor([ 0.0301, -0.0185, -0.1280, -0.1854,  0.0121,  0.0723,  0.2327, -0.1097,\n",
      "         0.0634, -0.0798], requires_grad=True)\n"
     ]
    }
   ],
   "source": [
    "print(theta_out)"
   ]
  },
  {
   "cell_type": "code",
   "execution_count": null,
   "metadata": {},
   "outputs": [],
   "source": []
  }
 ],
 "metadata": {
  "kernelspec": {
   "display_name": "Python 3",
   "language": "python",
   "name": "python3"
  },
  "language_info": {
   "codemirror_mode": {
    "name": "ipython",
    "version": 3
   },
   "file_extension": ".py",
   "mimetype": "text/x-python",
   "name": "python",
   "nbconvert_exporter": "python",
   "pygments_lexer": "ipython3",
   "version": "3.7.4"
  }
 },
 "nbformat": 4,
 "nbformat_minor": 4
}
